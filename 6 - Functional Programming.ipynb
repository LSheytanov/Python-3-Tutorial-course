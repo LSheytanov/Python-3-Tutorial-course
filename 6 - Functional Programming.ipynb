{
 "cells": [
  {
   "cell_type": "code",
   "execution_count": null,
   "metadata": {},
   "outputs": [],
   "source": [
    "def apply_twice(func, arg):\n",
    "   return func(func(arg))\n",
    "\n",
    "def add_five(x):\n",
    "   return x + 5\n",
    "\n",
    "print(apply_twice(add_five, 10))"
   ]
  },
  {
   "cell_type": "code",
   "execution_count": null,
   "metadata": {},
   "outputs": [],
   "source": [
    "def test(func, arg):\n",
    "  return func(func(arg))\n",
    "\n",
    "def mult(x):\n",
    "  return x * x\n",
    "\n",
    "print(test(mult, 2))"
   ]
  },
  {
   "cell_type": "code",
   "execution_count": null,
   "metadata": {},
   "outputs": [],
   "source": [
    "#Pure function: Pure functions have no side effects, and return a value that depends only on their arguments."
   ]
  },
  {
   "cell_type": "code",
   "execution_count": null,
   "metadata": {},
   "outputs": [],
   "source": [
    "def pure_function(x, y):\n",
    "  temp = x + 2*y\n",
    "  return temp / (2*x + y)"
   ]
  },
  {
   "cell_type": "code",
   "execution_count": null,
   "metadata": {},
   "outputs": [],
   "source": [
    "#Impure function: The function above is not pure, because it changed the state of some_lis"
   ]
  },
  {
   "cell_type": "code",
   "execution_count": null,
   "metadata": {},
   "outputs": [],
   "source": [
    "some_list = []\n",
    "\n",
    "def impure(arg):\n",
    "  some_list.append(arg)"
   ]
  },
  {
   "cell_type": "code",
   "execution_count": null,
   "metadata": {},
   "outputs": [],
   "source": [
    "#nce the function has been evaluated for an input, the result can be stored and referred to the next time the function of that input is needed, \n",
    "#reducing the number of times the function is called.\n",
    "#This is called memoization."
   ]
  },
  {
   "cell_type": "code",
   "execution_count": null,
   "metadata": {},
   "outputs": [],
   "source": [
    "def my_func(f, arg):\n",
    "  return f(arg)\n",
    "\n",
    "my_func(lambda x: 2*x*x, 5)"
   ]
  },
  {
   "cell_type": "code",
   "execution_count": null,
   "metadata": {},
   "outputs": [],
   "source": [
    "#named function\n",
    "def polynomial(x):\n",
    "    return x**2 + 5*x + 4\n",
    "print(polynomial(-4))\n",
    "\n",
    "#lambda (anonymous function)\n",
    "print((lambda x: x**2 + 5*x + 4) (-4))"
   ]
  },
  {
   "cell_type": "code",
   "execution_count": null,
   "metadata": {},
   "outputs": [],
   "source": [
    "a = (lambda x: x*x) (8)\n",
    "print(a)"
   ]
  },
  {
   "cell_type": "code",
   "execution_count": null,
   "metadata": {},
   "outputs": [],
   "source": [
    "double = lambda x: x * 2\n",
    "print(double(7))"
   ]
  },
  {
   "cell_type": "code",
   "execution_count": null,
   "metadata": {},
   "outputs": [],
   "source": [
    "def add_five(x):\n",
    "  return x + 5\n",
    "\n",
    "nums = [11, 22, 33, 44, 55]\n",
    "result = list(map(add_five, nums))\n",
    "print(result)"
   ]
  },
  {
   "cell_type": "code",
   "execution_count": null,
   "metadata": {},
   "outputs": [],
   "source": [
    "nums = [11, 22, 33, 44, 55]\n",
    "\n",
    "result = list(map(lambda x: x+5, nums))\n",
    "print(result)"
   ]
  },
  {
   "cell_type": "code",
   "execution_count": null,
   "metadata": {},
   "outputs": [],
   "source": [
    "nums = [11, 22, 33]\n",
    "a = list(map(lambda x: x*2, nums))\n",
    "print(a)"
   ]
  },
  {
   "cell_type": "code",
   "execution_count": null,
   "metadata": {},
   "outputs": [],
   "source": [
    "# predicate (a function that returns a Boolean)."
   ]
  },
  {
   "cell_type": "code",
   "execution_count": null,
   "metadata": {},
   "outputs": [],
   "source": [
    "nums = [11, 22, 33, 44, 55]\n",
    "res = list(filter(lambda x: x%2==0, nums))\n",
    "print(res)"
   ]
  },
  {
   "cell_type": "code",
   "execution_count": null,
   "metadata": {},
   "outputs": [],
   "source": [
    "nums = [1, 2, 5, 8, 3, 0, 7]\n",
    "res = list(filter(lambda x: x<5, nums))\n",
    "print(res)"
   ]
  },
  {
   "cell_type": "code",
   "execution_count": null,
   "metadata": {},
   "outputs": [],
   "source": [
    "def countdown():\n",
    "  i=5\n",
    "  while i > 0:\n",
    "    yield i\n",
    "    i -= 1\n",
    "    \n",
    "for i in countdown():\n",
    "  print(i)"
   ]
  },
  {
   "cell_type": "code",
   "execution_count": null,
   "metadata": {},
   "outputs": [],
   "source": [
    "#The yield statement is used to define a generator, replacing the return of a function to provide a result to its caller \n",
    "#without destroying local variables."
   ]
  },
  {
   "cell_type": "code",
   "execution_count": null,
   "metadata": {},
   "outputs": [],
   "source": [
    "#Due to the fact that they yield one item at a time, generators don't have the memory restrictions of lists.\n",
    "#In fact, they can be infinite!\n",
    "#!!!\n",
    "\n",
    "\n",
    "def infinite_sevens():\n",
    "  while True:\n",
    "    yield 7\n",
    "        \n",
    "for i in infinite_sevens():\n",
    "  print(i)"
   ]
  },
  {
   "cell_type": "code",
   "execution_count": null,
   "metadata": {},
   "outputs": [],
   "source": [
    "#In short, generators allow you to declare a function that behaves like an iterator, i.e. it can be used in a for loop."
   ]
  },
  {
   "cell_type": "code",
   "execution_count": 3,
   "metadata": {},
   "outputs": [
    {
     "name": "stdout",
     "output_type": "stream",
     "text": [
      "[0, 2, 4, 6, 8, 10]\n"
     ]
    }
   ],
   "source": [
    "def numbers(x):\n",
    "  for i in range(x):\n",
    "    if i % 2 == 0:\n",
    "      yield i\n",
    "\n",
    "print(list(numbers(11)))"
   ]
  },
  {
   "cell_type": "code",
   "execution_count": 4,
   "metadata": {},
   "outputs": [
    {
     "name": "stdout",
     "output_type": "stream",
     "text": [
      "============\n",
      "Hello world!\n",
      "============\n"
     ]
    }
   ],
   "source": [
    "def decor(func):\n",
    "  def wrap():\n",
    "    print(\"============\")\n",
    "    func()\n",
    "    print(\"============\")\n",
    "  return wrap\n",
    "\n",
    "def print_text():\n",
    "  print(\"Hello world!\")\n",
    "\n",
    "decorated = decor(print_text)\n",
    "decorated()"
   ]
  },
  {
   "cell_type": "code",
   "execution_count": 5,
   "metadata": {},
   "outputs": [
    {
     "name": "stdout",
     "output_type": "stream",
     "text": [
      "============\n",
      "Hello world!\n",
      "============\n"
     ]
    }
   ],
   "source": [
    "print_text = decor(print_text)\n",
    "print_text()"
   ]
  },
  {
   "cell_type": "code",
   "execution_count": 6,
   "metadata": {},
   "outputs": [],
   "source": [
    "def print_text():\n",
    "  print(\"Hello world!\")\n",
    "\n",
    "print_text = decor(print_text)"
   ]
  },
  {
   "cell_type": "code",
   "execution_count": 7,
   "metadata": {},
   "outputs": [],
   "source": [
    "@decor\n",
    "def print_text():\n",
    "  print(\"Hello world!\")"
   ]
  },
  {
   "cell_type": "code",
   "execution_count": 8,
   "metadata": {},
   "outputs": [],
   "source": [
    "#A single function can have multiple decorators"
   ]
  },
  {
   "cell_type": "code",
   "execution_count": 9,
   "metadata": {},
   "outputs": [
    {
     "name": "stdout",
     "output_type": "stream",
     "text": [
      "120\n"
     ]
    }
   ],
   "source": [
    "def factorial(x):\n",
    "  if x == 1:\n",
    "    return 1\n",
    "  else: \n",
    "    return x * factorial(x-1)\n",
    "    \n",
    "print(factorial(5))"
   ]
  },
  {
   "cell_type": "code",
   "execution_count": 10,
   "metadata": {},
   "outputs": [],
   "source": [
    "#The base case acts as the exit condition of the recursion."
   ]
  },
  {
   "cell_type": "code",
   "execution_count": 11,
   "metadata": {},
   "outputs": [
    {
     "name": "stdout",
     "output_type": "stream",
     "text": [
      "True\n",
      "False\n"
     ]
    }
   ],
   "source": [
    "def is_even(x):\n",
    "  if x == 0:\n",
    "    return True\n",
    "  else:\n",
    "    return is_odd(x-1)\n",
    "\n",
    "def is_odd(x):\n",
    "  return not is_even(x)\n",
    "\n",
    "\n",
    "print(is_odd(17))\n",
    "print(is_even(23))"
   ]
  },
  {
   "cell_type": "code",
   "execution_count": 12,
   "metadata": {},
   "outputs": [
    {
     "name": "stdout",
     "output_type": "stream",
     "text": [
      "5\n"
     ]
    }
   ],
   "source": [
    "def fib(x):\n",
    "  if x == 0 or x == 1:\n",
    "    return 1\n",
    "  else: \n",
    "    return fib(x-1) + fib(x-2)\n",
    "print(fib(4))"
   ]
  },
  {
   "cell_type": "code",
   "execution_count": 13,
   "metadata": {},
   "outputs": [
    {
     "name": "stdout",
     "output_type": "stream",
     "text": [
      "True\n",
      "False\n"
     ]
    }
   ],
   "source": [
    "num_set = {1, 2, 3, 4, 5}\n",
    "word_set = set([\"spam\", \"eggs\", \"sausage\"])\n",
    "\n",
    "print(3 in num_set)\n",
    "print(\"spam\" not in word_set)"
   ]
  },
  {
   "cell_type": "code",
   "execution_count": 14,
   "metadata": {},
   "outputs": [
    {
     "name": "stdout",
     "output_type": "stream",
     "text": [
      "{1, 2, 3, 4, 5, 6}\n",
      "{1, 2, 4, 5, 6, -7}\n"
     ]
    }
   ],
   "source": [
    "nums = {1, 2, 1, 3, 1, 4, 5, 6}\n",
    "print(nums)\n",
    "nums.add(-7)\n",
    "nums.remove(3)\n",
    "print(nums)"
   ]
  },
  {
   "cell_type": "code",
   "execution_count": 15,
   "metadata": {},
   "outputs": [
    {
     "name": "stdout",
     "output_type": "stream",
     "text": [
      "5\n"
     ]
    }
   ],
   "source": [
    "nums = {\"a\", \"b\", \"c\", \"d\"}\n",
    "nums.add(\"z\")\n",
    "print(len(nums))"
   ]
  },
  {
   "cell_type": "code",
   "execution_count": 16,
   "metadata": {},
   "outputs": [
    {
     "name": "stdout",
     "output_type": "stream",
     "text": [
      "{1, 2, 3, 4, 5, 6, 7, 8, 9}\n",
      "{4, 5, 6}\n",
      "{1, 2, 3}\n",
      "{8, 9, 7}\n",
      "{1, 2, 3, 7, 8, 9}\n"
     ]
    }
   ],
   "source": [
    "first = {1, 2, 3, 4, 5, 6}\n",
    "second = {4, 5, 6, 7, 8, 9}\n",
    "\n",
    "print(first | second)\n",
    "print(first & second)\n",
    "print(first - second)\n",
    "print(second - first)\n",
    "print(first ^ second)"
   ]
  },
  {
   "cell_type": "markdown",
   "metadata": {},
   "source": [
    "Sets can be combined using mathematical operations.\n",
    "The union operator | combines two sets to form a new one containing items in either.\n",
    "The intersection operator & gets items only in both.\n",
    "The difference operator - gets items in the first set but not in the second.\n",
    "The symmetric difference operator ^ gets items in either set, but not both."
   ]
  },
  {
   "cell_type": "code",
   "execution_count": 17,
   "metadata": {},
   "outputs": [
    {
     "name": "stdout",
     "output_type": "stream",
     "text": [
      "{3}\n"
     ]
    }
   ],
   "source": [
    "a = {1, 2, 3}\n",
    "b = {0, 3, 4, 5}\n",
    "print(a & b)"
   ]
  },
  {
   "cell_type": "markdown",
   "metadata": {},
   "source": [
    "Data Structures\n",
    "\n",
    "As we have seen in the previous lessons, Python supports the following data structures: lists, dictionaries, tuples, sets.\n",
    "\n",
    "When to use a dictionary:\n",
    "- When you need a logical association between a key:value pair.\n",
    "- When you need fast lookup for your data, based on a custom key.\n",
    "- When your data is being constantly modified. Remember, dictionaries are mutable.\n",
    "\n",
    "When to use the other types:\n",
    "- Use lists if you have a collection of data that does not need random access. Try to choose lists when you need a simple, iterable collection that is modified frequently.\n",
    "- Use a set if you need uniqueness for the elements.\n",
    "- Use tuples when your data cannot change.\n",
    "Many times, a tuple is used in combination with a dictionary, for example, a tuple might represent a key, because it's immutable."
   ]
  },
  {
   "cell_type": "markdown",
   "metadata": {},
   "source": [
    "### Sets are like lists, with the difference that its elements can't be repeated. Tuples are also like lists, but they can't be modified. Dictionaries are basically lists made up of keys each associated with a value."
   ]
  },
  {
   "cell_type": "code",
   "execution_count": 18,
   "metadata": {},
   "outputs": [
    {
     "ename": "SyntaxError",
     "evalue": "invalid syntax (<ipython-input-18-8a475fd5cced>, line 1)",
     "output_type": "error",
     "traceback": [
      "\u001b[1;36m  File \u001b[1;32m\"<ipython-input-18-8a475fd5cced>\"\u001b[1;36m, line \u001b[1;32m1\u001b[0m\n\u001b[1;33m    Revision:\u001b[0m\n\u001b[1;37m             ^\u001b[0m\n\u001b[1;31mSyntaxError\u001b[0m\u001b[1;31m:\u001b[0m invalid syntax\n"
     ]
    }
   ],
   "source": [
    "Revision:\n",
    "# Lists\n",
    "l = [1, \"a\"]\n",
    "\n",
    "# Tuples\n",
    "t = (2, \"b\")\n",
    "\n",
    "# Dictionaries\n",
    "d = {\"k1\":3, \"k2\":\"c\"}\n",
    "# or\n",
    "d = dict([(\"k1\", 3), (\"k2\", \"c\")])\n",
    "\n",
    "# Sets\n",
    "s = set([4,\"d\"])\n",
    "# or\n",
    "s = {4,\"d\"}"
   ]
  },
  {
   "cell_type": "code",
   "execution_count": 19,
   "metadata": {},
   "outputs": [
    {
     "name": "stdout",
     "output_type": "stream",
     "text": [
      "3\n",
      "4\n",
      "5\n",
      "6\n",
      "7\n",
      "8\n",
      "9\n",
      "10\n",
      "11\n"
     ]
    }
   ],
   "source": [
    "from itertools import count\n",
    "\n",
    "for i in count(3):\n",
    "  print(i)\n",
    "  if i >=11:\n",
    "    break"
   ]
  },
  {
   "cell_type": "markdown",
   "metadata": {},
   "source": [
    "itertools\n",
    "\n",
    "The module itertools is a standard library that contains several functions that are useful in functional programming.\n",
    "One type of function it produces is infinite iterators.\n",
    "The function count counts up infinitely from a value.\n",
    "The function cycle infinitely iterates through an iterable (for instance a list or string).\n",
    "The function repeat repeats an object, either infinitely or a specific number of times."
   ]
  },
  {
   "cell_type": "code",
   "execution_count": 20,
   "metadata": {},
   "outputs": [
    {
     "name": "stdout",
     "output_type": "stream",
     "text": [
      "[0, 1, 3, 6, 10, 15, 21, 28]\n",
      "[0, 1, 3, 6]\n"
     ]
    }
   ],
   "source": [
    "from itertools import accumulate, takewhile\n",
    "\n",
    "nums = list(accumulate(range(8)))\n",
    "print(nums)\n",
    "print(list(takewhile(lambda x: x<= 6, nums)))"
   ]
  },
  {
   "cell_type": "code",
   "execution_count": 22,
   "metadata": {},
   "outputs": [
    {
     "name": "stdout",
     "output_type": "stream",
     "text": [
      "[2, 4, 6]\n"
     ]
    }
   ],
   "source": [
    "from itertools import takewhile\n",
    "nums = [2, 4, 6, 7, 9, 8]\n",
    "a = takewhile(lambda x: x%2==0, nums)\n",
    "print(list(a))"
   ]
  },
  {
   "cell_type": "code",
   "execution_count": 23,
   "metadata": {},
   "outputs": [
    {
     "name": "stdout",
     "output_type": "stream",
     "text": [
      "[('A', 0), ('A', 1), ('B', 0), ('B', 1)]\n",
      "[('A', 'B'), ('B', 'A')]\n"
     ]
    }
   ],
   "source": [
    "from itertools import product, permutations\n",
    "\n",
    "letters = (\"A\", \"B\")\n",
    "print(list(product(letters, range(2))))\n",
    "print(list(permutations(letters))) "
   ]
  },
  {
   "cell_type": "code",
   "execution_count": 24,
   "metadata": {},
   "outputs": [
    {
     "name": "stdout",
     "output_type": "stream",
     "text": [
      "6\n"
     ]
    }
   ],
   "source": [
    "from itertools import product\n",
    "a={1, 2}\n",
    "print(len(list(product(range(3), a))))"
   ]
  },
  {
   "cell_type": "code",
   "execution_count": 25,
   "metadata": {},
   "outputs": [
    {
     "name": "stdout",
     "output_type": "stream",
     "text": [
      "2\n"
     ]
    }
   ],
   "source": [
    "nums = {1, 2, 3, 4, 5, 6}\n",
    "nums = {0, 1, 2, 3} & nums\n",
    "nums = filter(lambda x: x > 1, nums)\n",
    "print(len(list(nums)))\n",
    "\n"
   ]
  },
  {
   "cell_type": "code",
   "execution_count": null,
   "metadata": {},
   "outputs": [],
   "source": []
  }
 ],
 "metadata": {
  "kernelspec": {
   "display_name": "Python 3",
   "language": "python",
   "name": "python3"
  },
  "language_info": {
   "codemirror_mode": {
    "name": "ipython",
    "version": 3
   },
   "file_extension": ".py",
   "mimetype": "text/x-python",
   "name": "python",
   "nbconvert_exporter": "python",
   "pygments_lexer": "ipython3",
   "version": "3.7.3"
  }
 },
 "nbformat": 4,
 "nbformat_minor": 4
}
