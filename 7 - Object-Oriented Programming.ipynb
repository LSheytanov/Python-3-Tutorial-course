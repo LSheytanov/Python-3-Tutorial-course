{
 "cells": [
  {
   "cell_type": "markdown",
   "metadata": {},
   "source": [
    "Classes\n",
    "\n",
    "We have previously looked at two paradigms of programming - imperative (using statements, loops, and functions as subroutines), and functional (using pure functions, higher-order functions, and recursion).\n",
    "\n",
    "Another very popular paradigm is object-oriented programming (OOP).\n",
    "Objects are created using classes, which are actually the focal point of OOP.\n",
    "The class describes what the object will be, but is separate from the object itself. In other words, a class can be described as an object's blueprint, description, or definition.\n",
    "You can use the same class as a blueprint for creating multiple different objects.\n",
    "\n",
    "Classes are created using the keyword class and an indented block, which contains class methods (which are functions).\n",
    "Below is an example of a simple class and its objects."
   ]
  },
  {
   "cell_type": "code",
   "execution_count": 1,
   "metadata": {},
   "outputs": [],
   "source": [
    "class Cat:\n",
    "  def __init__(self, color, legs):\n",
    "    self.color = color\n",
    "    self.legs = legs\n",
    "\n",
    "felix = Cat(\"ginger\", 4)\n",
    "rover = Cat(\"dog-colored\", 4)\n",
    "stumpy = Cat(\"brown\", 3)"
   ]
  },
  {
   "cell_type": "code",
   "execution_count": 2,
   "metadata": {},
   "outputs": [
    {
     "name": "stdout",
     "output_type": "stream",
     "text": [
      "ginger\n"
     ]
    }
   ],
   "source": [
    "class Cat:\n",
    "  def __init__(self, color, legs):\n",
    "    self.color = color\n",
    "    self.legs = legs\n",
    "\n",
    "felix = Cat(\"ginger\", 4)\n",
    "print(felix.color)"
   ]
  },
  {
   "cell_type": "markdown",
   "metadata": {},
   "source": [
    "This code defines a class named Cat, which has two attributes: color and legs.\n",
    "Then the class is used to create 3 separate objects of that class.\n",
    "Tap Continue to learn more!"
   ]
  },
  {
   "cell_type": "markdown",
   "metadata": {},
   "source": [
    "__init__\n",
    "\n",
    "The __init__ method is the most important method in a class.\n",
    "This is called when an instance (object) of the class is created, using the class name as a function.\n",
    "\n",
    "All methods must have self as their first parameter, although it isn't explicitly passed, Python adds the self argument to the list for you; you do not need to include it when you call the methods. Within a method definition, self refers to the instance calling the method.\n",
    "\n",
    "Instances of a class have attributes, which are pieces of data associated with them.\n",
    "In this example, Cat instances have attributes color and legs. These can be accessed by putting a dot, and the attribute name after an instance.\n",
    "In an __init__ method, self.attribute can therefore be used to set the initial value of an instance's attributes."
   ]
  },
  {
   "cell_type": "markdown",
   "metadata": {},
   "source": [
    "In the example above, the __init__ method takes two arguments and assigns them to the object's attributes. The __init__ method is called the class constructor."
   ]
  },
  {
   "cell_type": "markdown",
   "metadata": {},
   "source": [
    "Methods\n",
    "\n",
    "Classes can have other methods defined to add functionality to them.\n",
    "Remember, that all methods must have self as their first parameter.\n",
    "These methods are accessed using the same dot syntax as attributes."
   ]
  },
  {
   "cell_type": "code",
   "execution_count": 3,
   "metadata": {},
   "outputs": [
    {
     "name": "stdout",
     "output_type": "stream",
     "text": [
      "Fido\n",
      "Woof!\n"
     ]
    }
   ],
   "source": [
    "class Dog:\n",
    "  def __init__(self, name, color):\n",
    "    self.name = name\n",
    "    self.color = color\n",
    "\n",
    "  def bark(self):\n",
    "    print(\"Woof!\")\n",
    "\n",
    "fido = Dog(\"Fido\", \"brown\")\n",
    "print(fido.name)\n",
    "fido.bark()"
   ]
  },
  {
   "cell_type": "code",
   "execution_count": 4,
   "metadata": {},
   "outputs": [
    {
     "name": "stdout",
     "output_type": "stream",
     "text": [
      "4\n",
      "4\n"
     ]
    }
   ],
   "source": [
    "class Dog:\n",
    "  legs = 4\n",
    "  def __init__(self, name, color):\n",
    "    self.name = name\n",
    "    self.color = color\n",
    "\n",
    "fido = Dog(\"Fido\", \"brown\")\n",
    "print(fido.legs)\n",
    "print(Dog.legs)"
   ]
  },
  {
   "cell_type": "markdown",
   "metadata": {},
   "source": [
    "Classes can also have class attributes, created by assigning variables within the body of the class. These can be accessed either from instances of the class, or the class itself."
   ]
  },
  {
   "cell_type": "code",
   "execution_count": 5,
   "metadata": {},
   "outputs": [
    {
     "ename": "AttributeError",
     "evalue": "'Rectangle' object has no attribute 'color'",
     "output_type": "error",
     "traceback": [
      "\u001b[1;31m---------------------------------------------------------------------------\u001b[0m",
      "\u001b[1;31mAttributeError\u001b[0m                            Traceback (most recent call last)",
      "\u001b[1;32m<ipython-input-5-37e699555d44>\u001b[0m in \u001b[0;36m<module>\u001b[1;34m\u001b[0m\n\u001b[0;32m      5\u001b[0m \u001b[1;33m\u001b[0m\u001b[0m\n\u001b[0;32m      6\u001b[0m \u001b[0mrect\u001b[0m \u001b[1;33m=\u001b[0m \u001b[0mRectangle\u001b[0m\u001b[1;33m(\u001b[0m\u001b[1;36m7\u001b[0m\u001b[1;33m,\u001b[0m \u001b[1;36m8\u001b[0m\u001b[1;33m)\u001b[0m\u001b[1;33m\u001b[0m\u001b[1;33m\u001b[0m\u001b[0m\n\u001b[1;32m----> 7\u001b[1;33m \u001b[0mprint\u001b[0m\u001b[1;33m(\u001b[0m\u001b[0mrect\u001b[0m\u001b[1;33m.\u001b[0m\u001b[0mcolor\u001b[0m\u001b[1;33m)\u001b[0m\u001b[1;33m\u001b[0m\u001b[1;33m\u001b[0m\u001b[0m\n\u001b[0m",
      "\u001b[1;31mAttributeError\u001b[0m: 'Rectangle' object has no attribute 'color'"
     ]
    }
   ],
   "source": [
    "class Rectangle: \n",
    "  def __init__(self, width, height):\n",
    "    self.width = width\n",
    "    self.height = height\n",
    "\n",
    "rect = Rectangle(7, 8)\n",
    "print(rect.color)"
   ]
  },
  {
   "cell_type": "code",
   "execution_count": 6,
   "metadata": {},
   "outputs": [
    {
     "name": "stdout",
     "output_type": "stream",
     "text": [
      "brown\n",
      "Woof!\n"
     ]
    }
   ],
   "source": [
    "class Animal: \n",
    "  def __init__(self, name, color):\n",
    "    self.name = name\n",
    "    self.color = color\n",
    "\n",
    "class Cat(Animal):\n",
    "  def purr(self):\n",
    "    print(\"Purr...\")\n",
    "        \n",
    "class Dog(Animal):\n",
    "  def bark(self):\n",
    "    print(\"Woof!\")\n",
    "\n",
    "fido = Dog(\"Fido\", \"brown\")\n",
    "print(fido.color)\n",
    "fido.bark()"
   ]
  },
  {
   "cell_type": "markdown",
   "metadata": {},
   "source": [
    "Inheritance\n",
    "\n",
    "A class that inherits from another class is called a subclass.\n",
    "A class that is inherited from is called a superclass.\n",
    "If a class inherits from another with the same attributes or methods, it overrides them."
   ]
  },
  {
   "cell_type": "code",
   "execution_count": 7,
   "metadata": {},
   "outputs": [
    {
     "name": "stdout",
     "output_type": "stream",
     "text": [
      "Woof\n"
     ]
    }
   ],
   "source": [
    "class Wolf: \n",
    "  def __init__(self, name, color):\n",
    "    self.name = name\n",
    "    self.color = color\n",
    "\n",
    "  def bark(self):\n",
    "    print(\"Grr...\")\n",
    "\n",
    "class Dog(Wolf):\n",
    "  def bark(self):\n",
    "    print(\"Woof\")\n",
    "        \n",
    "husky = Dog(\"Max\", \"grey\")\n",
    "husky.bark()"
   ]
  },
  {
   "cell_type": "code",
   "execution_count": 8,
   "metadata": {},
   "outputs": [
    {
     "name": "stdout",
     "output_type": "stream",
     "text": [
      "A method\n",
      "B method\n",
      "C method\n"
     ]
    }
   ],
   "source": [
    "class A:\n",
    "  def method(self):\n",
    "    print(\"A method\")\n",
    "    \n",
    "class B(A):\n",
    "  def another_method(self):\n",
    "    print(\"B method\")\n",
    "    \n",
    "class C(B):\n",
    "  def third_method(self):\n",
    "    print(\"C method\")\n",
    "    \n",
    "c = C()\n",
    "c.method()\n",
    "c.another_method()\n",
    "c.third_method()"
   ]
  },
  {
   "cell_type": "code",
   "execution_count": 9,
   "metadata": {},
   "outputs": [],
   "source": [
    "#circular inheritance is not possible."
   ]
  },
  {
   "cell_type": "code",
   "execution_count": 10,
   "metadata": {},
   "outputs": [
    {
     "name": "stdout",
     "output_type": "stream",
     "text": [
      "2\n",
      "1\n"
     ]
    }
   ],
   "source": [
    "class A:\n",
    "  def spam(self):\n",
    "    print(1)\n",
    "\n",
    "class B(A):\n",
    "  def spam(self):\n",
    "    print(2)\n",
    "    super().spam()\n",
    "            \n",
    "B().spam()"
   ]
  },
  {
   "cell_type": "code",
   "execution_count": 11,
   "metadata": {},
   "outputs": [
    {
     "name": "stdout",
     "output_type": "stream",
     "text": [
      "8\n",
      "16\n"
     ]
    }
   ],
   "source": [
    "class Vector2D:\n",
    "  def __init__(self, x, y):\n",
    "    self.x = x\n",
    "    self.y = y\n",
    "  def __add__(self, other):\n",
    "    return Vector2D(self.x + other.x, self.y + other.y)\n",
    "\n",
    "first = Vector2D(5, 7)\n",
    "second = Vector2D(3, 9)\n",
    "result = first + second\n",
    "print(result.x)\n",
    "print(result.y)"
   ]
  },
  {
   "cell_type": "markdown",
   "metadata": {},
   "source": [
    "Magic Methods\n",
    "\n",
    "More magic methods for common operators:\n",
    "__sub__ for -\n",
    "__mul__ for *\n",
    "__truediv__ for /\n",
    "__floordiv__ for //\n",
    "__mod__ for %\n",
    "__pow__ for **\n",
    "__and__ for &\n",
    "__xor__ for ^\n",
    "__or__ for |\n",
    "\n",
    "The expression x + y is translated into x.__add__(y).\n",
    "However, if x hasn't implemented __add__, and x and y are of different types, then y.__radd__(x) is called.\n",
    "There are equivalent r methods for all magic methods just mentioned."
   ]
  },
  {
   "cell_type": "code",
   "execution_count": 12,
   "metadata": {},
   "outputs": [
    {
     "name": "stdout",
     "output_type": "stream",
     "text": [
      "spam\n",
      "============\n",
      "Hello world!\n"
     ]
    }
   ],
   "source": [
    "class SpecialString:\n",
    "  def __init__(self, cont):\n",
    "    self.cont = cont\n",
    "\n",
    "  def __truediv__(self, other):\n",
    "    line = \"=\" * len(other.cont)\n",
    "    return \"\\n\".join([self.cont, line, other.cont])\n",
    "\n",
    "spam = SpecialString(\"spam\")\n",
    "hello = SpecialString(\"Hello world!\")\n",
    "print(spam / hello)"
   ]
  },
  {
   "cell_type": "code",
   "execution_count": 13,
   "metadata": {},
   "outputs": [
    {
     "name": "stdout",
     "output_type": "stream",
     "text": [
      ">spam>eggs\n",
      "e>spam>ggs\n",
      "eg>spam>gs\n",
      "egg>spam>s\n",
      "eggs>spam>\n"
     ]
    }
   ],
   "source": [
    "class SpecialString:\n",
    "  def __init__(self, cont):\n",
    "    self.cont = cont\n",
    "\n",
    "  def __gt__(self, other):\n",
    "    for index in range(len(other.cont)+1):\n",
    "      result = other.cont[:index] + \">\" + self.cont\n",
    "      result += \">\" + other.cont[index:]\n",
    "      print(result)\n",
    "\n",
    "spam = SpecialString(\"spam\")\n",
    "eggs = SpecialString(\"eggs\")\n",
    "spam > eggs"
   ]
  },
  {
   "cell_type": "markdown",
   "metadata": {},
   "source": [
    "Magic Methods\n",
    "\n",
    "Python also provides magic methods for comparisons.\n",
    "__lt__ for <\n",
    "__le__ for <=\n",
    "__eq__ for ==\n",
    "__ne__ for !=\n",
    "__gt__ for >\n",
    "__ge__ for >=\n",
    "\n",
    "If __ne__ is not implemented, it returns the opposite of __eq__.\n",
    "There are no other relationships between the other operators."
   ]
  },
  {
   "cell_type": "code",
   "execution_count": 14,
   "metadata": {},
   "outputs": [
    {
     "name": "stdout",
     "output_type": "stream",
     "text": [
      "5\n",
      "2\n",
      "C\n",
      "C\n"
     ]
    }
   ],
   "source": [
    "import random\n",
    "\n",
    "class VagueList:\n",
    "  def __init__(self, cont):\n",
    "    self.cont = cont\n",
    "\n",
    "  def __getitem__(self, index):\n",
    "    return self.cont[index + random.randint(-1, 1)]\n",
    "\n",
    "  def __len__(self):\n",
    "    return random.randint(0, len(self.cont)*2)\n",
    "\n",
    "vague_list = VagueList([\"A\", \"B\", \"C\", \"D\", \"E\"])\n",
    "print(len(vague_list))\n",
    "print(len(vague_list))\n",
    "print(vague_list[2])\n",
    "print(vague_list[2])"
   ]
  },
  {
   "cell_type": "markdown",
   "metadata": {},
   "source": [
    "Magic Methods\n",
    "\n",
    "There are several magic methods for making classes act like containers.\n",
    "__len__ for len()\n",
    "__getitem__ for indexing\n",
    "__setitem__ for assigning to indexed values\n",
    "__delitem__ for deleting indexed values\n",
    "__iter__ for iteration over objects (e.g., in for loops)\n",
    "__contains__ for in\n",
    "\n",
    "There are many other magic methods that we won't cover here, such as __call__ for calling objects as functions, and __int__, __str__, and the like, for converting objects to built-in types."
   ]
  },
  {
   "cell_type": "code",
   "execution_count": 15,
   "metadata": {},
   "outputs": [
    {
     "name": "stdout",
     "output_type": "stream",
     "text": [
      "8\n",
      "8\n",
      "B\n",
      "B\n"
     ]
    }
   ],
   "source": [
    "import random\n",
    "\n",
    "class VagueList:\n",
    "  def __init__(self, cont):\n",
    "    self.cont = cont\n",
    "\n",
    "  def __getitem__(self, index):\n",
    "    return self.cont[index + random.randint(-1, 1)]\n",
    "\n",
    "  def __len__(self):\n",
    "    return random.randint(0, len(self.cont)*2)\n",
    "\n",
    "vague_list = VagueList([\"A\", \"B\", \"C\", \"D\", \"E\"])\n",
    "print(len(vague_list))\n",
    "print(len(vague_list))\n",
    "print(vague_list[2])\n",
    "print(vague_list[2])"
   ]
  }
 ],
 "metadata": {
  "kernelspec": {
   "display_name": "Python 3",
   "language": "python",
   "name": "python3"
  },
  "language_info": {
   "codemirror_mode": {
    "name": "ipython",
    "version": 3
   },
   "file_extension": ".py",
   "mimetype": "text/x-python",
   "name": "python",
   "nbconvert_exporter": "python",
   "pygments_lexer": "ipython3",
   "version": "3.7.4"
  }
 },
 "nbformat": 4,
 "nbformat_minor": 4
}
